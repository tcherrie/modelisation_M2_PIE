{
 "cells": [
  {
   "cell_type": "markdown",
   "id": "3055a077-3fa8-43a7-b107-31779769007b",
   "metadata": {},
   "source": [
    "# II) Linear system"
   ]
  },
  {
   "cell_type": "code",
   "execution_count": 1,
   "id": "5e164820-891e-4248-ba36-68c9baa09932",
   "metadata": {},
   "outputs": [],
   "source": [
    "from ngsolve import *\n",
    "from ngsolve.webgui import Draw"
   ]
  },
  {
   "cell_type": "code",
   "execution_count": null,
   "id": "4842f00b-7274-4cbb-97d1-928bda9a5475",
   "metadata": {},
   "outputs": [],
   "source": [
    "from utils.myGeometries import square\n",
    "Omega = square(maxh=0.2)        # generates the domain \n",
    "u0 = (x-0.5)**2 + (y-0.5)**2    # define the function"
   ]
  },
  {
   "cell_type": "markdown",
   "id": "9703966f-d107-4325-b254-5fe055511bcd",
   "metadata": {},
   "source": [
    "## 1) Variational formulation\n",
    "### a) Stationarity \n",
    "Actually, one can solve the least-square problem in one step. Since it is a **convex unconstrained minimization problem**, it is enough to write the **optimality condition**, i.e, the derivative cancellation of $J$ (Newton method) :\n",
    "$$ \\forall v\\in H, \\quad  J'(u;v) = 0$$\n",
    "$$ \\Rightarrow \\forall v\\in H,  \\quad \\int_\\Omega (u-u_0) v = 0 $$\n",
    "$$ \\Rightarrow \\forall v\\in H,  \\quad \\underbrace{\\int_\\Omega u v}_{A(u,v)} = \\underbrace{\\int_\\Omega u_0 v}_{l(v)} $$\n",
    "\n",
    "- The arbitrary direction $v$ is called a **test function**\n",
    "- The left-hand side $A(u,v)$ is a bilinear form\n",
    "- The right hand side $l(v)$ is a linear form"
   ]
  },
  {
   "cell_type": "markdown",
   "id": "e1c54b10-070a-4d10-91cd-94911a55e2f9",
   "metadata": {},
   "source": [
    "### b) Weak form\n",
    "\n",
    "- The last line is called a **variational formulation**; also the **weak form** of the following \"**strong**\" equation, obtained by removing the integrals and :\n",
    "$$ u = u_0  $$\n",
    "- The variational form is called **weak** because $u$ might not be exactly equal to $u_0$, it is only the *best possible* in the admissible space $H$.\n",
    "- $u_0$ is always solution of the weak form, but the converse is not be true.\n",
    "\n",
    "We can write variational formulation in NGSolve. For instance,\n",
    "\n",
    "$$ \\int_\\Omega \\nabla u  \\cdot \\nabla v  \\; dx$$\n",
    "\n",
    "can be written as `grad(u) * grad(v) * dx` in NGSolve. To integrate over a specific region `name_region`, one can use `grad(u) * grad(v) * dx(\"name_region\")`."
   ]
  },
  {
   "cell_type": "code",
   "execution_count": null,
   "id": "f2104c66-247b-4039-8048-fd55959181e0",
   "metadata": {},
   "outputs": [],
   "source": [
    "# first, define the function space\n",
    "function_space = H1(Omega)\n",
    "u = function_space.TrialFunction()\n",
    "v = function_space.TestFunction()\n",
    "\n",
    "bf = BilinearForm( ......... ) # To fill\n",
    "lf = LinearForm( ......... )   # To fill"
   ]
  },
  {
   "cell_type": "markdown",
   "id": "e4c1d53b-7bd1-4818-998b-81ef0dc8e0e0",
   "metadata": {},
   "source": [
    "### Theoretical parenthesis\n",
    "\n",
    "We want to be able to converge to the **correct solution**, which is the case if $H$ is **well chosen**, and if the problem is **well-posed**.\n",
    "\n",
    "There are some theorems to check if a problem is well-posed. For instance :\n",
    "\n",
    "**Lax-Milgram**\n",
    "\n",
    "1. $H$ is a Hilbert space with a scalar product $\\langle \\cdot , \\cdot  \\rangle$ and associated norm $||\\cdot ||$\n",
    "2. $A$ is a bilinear form that is\n",
    "- **continuous** : $\\exists c_a >0, \\forall (u,v) \\in H^2, \\quad |A(u,v)| \\leq c_a ||u||\\,||v||$ \n",
    "- **elliptic** :  $\\exists \\alpha >0, \\forall u \\in H, \\quad A(u,u) \\geq \\alpha ||u||^2$\n",
    "3. $l$ is a continuous linear form : $\\exists c_l >0, \\forall v \\in S, \\quad |l(v)| \\leq c_l ||v||$ \n",
    "\n",
    "Then, the problem is well posed (unique and stable solution):\n",
    "- $$ \\exists ! u \\in H, \\forall v \\in H,\\quad A(u,v) = l(v) $$\n",
    "\n",
    "Moreover:\n",
    "- $$ ||u|| \\leq \\frac{c_l}{\\alpha} $$\n",
    "\n",
    "And additionaly, if $A$ is symmetric, $u$ is the solution of the following minimization problem\n",
    "$$ u = \\arg \\min_{u\\in S} \\frac{1}{2} A(u,u) - l(u) $$\n",
    "**Proof of this point** : exercise\n",
    "\n",
    "**Note** : Lax-Milgram hypothesis are sufficient but not necessary. It can be extended to non-linear problems, requiring $A$ to be stricly monotone (Zarantonello). Also, $A$ does not have to be coercive ; a more general condition is the **inf-sup condition** (Ladyzhenskaya–Babuška–Brezzi)."
   ]
  },
  {
   "cell_type": "markdown",
   "id": "c1aa24da-ed73-424e-8630-1e4ca1fc3cfd",
   "metadata": {},
   "source": [
    "______\n",
    "## 2) Discretization and assembly\n",
    "\n",
    "Once discretized on a mesh and suitable function space with DoF indexed by $i$, we formally have:\n",
    "\n",
    "- Bilinear form is equivalent to a matrix : $K_{ij} = A(u_j, v_i) $\n",
    "- Linear form is equivalent to a vector $f_i = l(v_i)$\n",
    "\n",
    "with $u_i, v_j$ the unitary function associated to DoF $i,j$, repsectively. Then, after discretization, one has to solve the matrix system :\n",
    "\n",
    "$$ K_{ij} u_{j} = f_{i} $$\n",
    "\n",
    "We'll see in the next class how the assembly process works in more details (not so simple!). What we have to remember from now is that this process is about computing elementary integrals.\n",
    "Right now, we just use the capabilities of NGSolve."
   ]
  },
  {
   "cell_type": "code",
   "execution_count": 4,
   "id": "6c37ead1-0bc0-4fab-8216-15fd44f15056",
   "metadata": {},
   "outputs": [
    {
     "data": {
      "text/plain": [
       "<ngsolve.comp.LinearForm at 0x1e2f2f7d430>"
      ]
     },
     "execution_count": 4,
     "metadata": {},
     "output_type": "execute_result"
    }
   ],
   "source": [
    "bf.Assemble()\n",
    "lf.Assemble()"
   ]
  },
  {
   "cell_type": "code",
   "execution_count": 5,
   "id": "fc4a6af1-c9d6-40c6-9f58-505d5d045a43",
   "metadata": {},
   "outputs": [
    {
     "data": {
      "image/png": "[encoded data removed]",
      "text/plain": [
       "<Figure size 640x480 with 1 Axes>"
      ]
     },
     "metadata": {},
     "output_type": "display_data"
    }
   ],
   "source": [
    "rows,cols,vals = bf.mat.COO()\n",
    "import scipy.sparse as sp\n",
    "K = sp.csr_matrix((vals,(rows,cols)))\n",
    "import matplotlib.pylab as plt\n",
    "plt.spy(K,markersize = 6); plt.show() # plot non-zero terms of the matrix"
   ]
  },
  {
   "cell_type": "markdown",
   "id": "eb11c79c-52af-41b8-aa3f-636e12a014f4",
   "metadata": {},
   "source": [
    "_____\n",
    "## Exercise\n",
    "1. Why is the matrix so **sparse**?\n",
    "2. Observe the **sparsity patterns** of the assembled bilinear form with continuous and discontinuous function spaces (`H1` and `L2`).\n",
    "3. **Bonus** : Explain the difference of sparsity pattern."
   ]
  },
  {
   "cell_type": "markdown",
   "id": "95a40209-6fbe-476d-8216-c63b65bab1a2",
   "metadata": {},
   "source": [
    "______\n",
    "## 3) Solving the problem\n",
    "\n",
    "Solving the mean-square problem is now equivalent to solving this unique matrix system, without the need to iterate.\n",
    "The matrix is symmetric positive definite, so we can use **Cholesky factorization** (a lot more memory efficient than computing explicitely the inverse)."
   ]
  },
  {
   "cell_type": "code",
   "execution_count": 6,
   "id": "89e5f059-a555-4c0c-8ec1-35e5f564cdc3",
   "metadata": {},
   "outputs": [
    {
     "data": {
      "application/vnd.jupyter.widget-view+json": {
       "model_id": "ae7aadf7282340f6a4b24fdf2a5a052f",
       "version_major": 2,
       "version_minor": 0
      },
      "text/plain": [
       "WebGuiWidget(layout=Layout(height='50vh', width='100%'), value={'gui_settings': {'deformation': 0.5}, 'ngsolve…"
      ]
     },
     "metadata": {},
     "output_type": "display_data"
    },
    {
     "data": {
      "text/plain": [
       "BaseWebGuiScene"
      ]
     },
     "execution_count": 6,
     "metadata": {},
     "output_type": "execute_result"
    }
   ],
   "source": [
    "sol = GridFunction(function_space)\n",
    "sol.vec.data = bf.mat.Inverse(inverse = \"sparsecholesky\") * lf.vec\n",
    "Draw(sol,  settings = {\"deformation\" :  0.5})"
   ]
  }
 ],
 "metadata": {
  "kernelspec": {
   "display_name": "Python 3 (ipykernel)",
   "language": "python",
   "name": "python3"
  },
  "language_info": {
   "codemirror_mode": {
    "name": "ipython",
    "version": 3
   },
   "file_extension": ".py",
   "mimetype": "text/x-python",
   "name": "python",
   "nbconvert_exporter": "python",
   "pygments_lexer": "ipython3",
   "version": "3.13.7"
  }
 },
 "nbformat": 4,
 "nbformat_minor": 5
}
