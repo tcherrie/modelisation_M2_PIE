{
 "cells": [
  {
   "cell_type": "markdown",
   "id": "c93a3907-a9c0-490c-aaa2-ddc6fa640a7a",
   "metadata": {},
   "source": [
    "# IV) Constraint imposition"
   ]
  },
  {
   "cell_type": "code",
   "execution_count": 1,
   "id": "f265a2dd-9ea4-4a02-b46e-91460f1b7032",
   "metadata": {},
   "outputs": [],
   "source": [
    "from ngsolve import *\n",
    "from ngsolve.webgui import Draw"
   ]
  },
  {
   "cell_type": "markdown",
   "id": "63794a8e-1dd8-4e07-8c10-7f02455c91f8",
   "metadata": {},
   "source": [
    "____\n",
    "# 1) Geometry"
   ]
  },
  {
   "cell_type": "code",
   "execution_count": 2,
   "id": "a7eb4c8e-a9ae-4192-9134-a9fac8904088",
   "metadata": {},
   "outputs": [
    {
     "data": {
      "application/vnd.jupyter.widget-view+json": {
       "model_id": "3c9c1b1621614597ba383c38f750a526",
       "version_major": 2,
       "version_minor": 0
      },
      "text/plain": [
       "WebGuiWidget(layout=Layout(height='50vh', width='100%'), value={'gui_settings': {}, 'ngsolve_version': '6.2.25…"
      ]
     },
     "metadata": {},
     "output_type": "display_data"
    },
    {
     "data": {
      "text/plain": [
       "BaseWebGuiScene"
      ]
     },
     "execution_count": 2,
     "metadata": {},
     "output_type": "execute_result"
    }
   ],
   "source": [
    "from utils.myGeometries import capacitor\n",
    "mesh = capacitor()\n",
    "Draw(mesh)"
   ]
  },
  {
   "cell_type": "markdown",
   "id": "61f87414-6f58-4469-87ed-3ecb76241146",
   "metadata": {},
   "source": [
    "____\n",
    "## 1) Substitution\n",
    "\n",
    "We want to solve the following Poisson problem with non-zero boundary conditions\n",
    "$$ \n",
    "\\left \\{\\begin{array}{rcll}\n",
    "-\\nabla \\cdot (\\epsilon_0 \\nabla u) & = & 0 & \\text{in}~\\Omega_0  ~\\text{(air)} \\\\\n",
    "-\\nabla \\cdot (3 \\epsilon_0 \\nabla u) & = & 0 & \\text{in}~\\Omega_1  ~\\text{(dielectric)} \\\\\n",
    "u & =  & -1 V& \\text{on}~\\Gamma_{L} ~\\text{(left)} \\\\\n",
    "u & =  & +1 V& \\text{on}~\\Gamma_{R} ~\\text{(right)} \\\\\n",
    "\\vec{D}\\cdot \\vec{n} & =  &0 & \\text{on}~\\Gamma_{N} ~\\text{(bottom and top)} \\\\\n",
    "\\end{array} \\right.\n",
    "$$"
   ]
  },
  {
   "cell_type": "markdown",
   "id": "45e6bd73-195e-4b66-b222-d8f8606d7cef",
   "metadata": {},
   "source": [
    "### a) Function space"
   ]
  },
  {
   "cell_type": "code",
   "execution_count": null,
   "id": "22a8a436-0039-4099-b89e-1d4a82f5501f",
   "metadata": {},
   "outputs": [],
   "source": [
    "fes = ..............\n",
    "u, v = fes.TnT()  # Trial aNd Test functions"
   ]
  },
  {
   "cell_type": "markdown",
   "id": "1309d5d6-01bd-4cab-8655-331701635cba",
   "metadata": {},
   "source": [
    "### b) Integral formulation"
   ]
  },
  {
   "cell_type": "code",
   "execution_count": null,
   "id": "625ffbd0-eb98-4759-a25b-ff0f2bdae5f9",
   "metadata": {},
   "outputs": [
    {
     "data": {
      "text/plain": [
       "<ngsolve.comp.LinearForm at 0x1217fa72370>"
      ]
     },
     "execution_count": 4,
     "metadata": {},
     "output_type": "execute_result"
    }
   ],
   "source": [
    "eps0 = 8.85e-12 # F/m\n",
    "bf = BilinearForm(fes)\n",
    "bf += ..............\n",
    "bf.Assemble()\n",
    "\n",
    "lf = LinearForm(fes) # lf is zero !\n",
    "lf.Assemble()"
   ]
  },
  {
   "cell_type": "markdown",
   "id": "98ee9028-b4e3-4538-b213-923900449b77",
   "metadata": {},
   "source": [
    "## c) Boundary conditions\n",
    "***How to impose non-zero Dirichlet conditions?***\n",
    "\n",
    "There are several ways. The easiest one is the following:\n",
    "\n",
    "- **split** the solution\n",
    "$$u = u_0 + u_D $$\n",
    "with $u_0$ the unknown Dofs satisfying zero Dirichlet boundary conditions, and $u_D$ being non-zero known dofs on the boundary\n",
    "- Then\n",
    "$$ A(u_0 + u_D) = f $$\n",
    "- and solve\n",
    "$$ A u_0 = f - A u_D $$\n",
    "- So the solution is finally $u = u_0 + u_D$"
   ]
  },
  {
   "cell_type": "code",
   "execution_count": null,
   "id": "dc150cdd-b3d3-407e-9b9c-2f2ca3c41348",
   "metadata": {},
   "outputs": [
    {
     "data": {
      "application/vnd.jupyter.widget-view+json": {
       "model_id": "50d6604f76424e9186858ad2b0900866",
       "version_major": 2,
       "version_minor": 0
      },
      "text/plain": [
       "WebGuiWidget(layout=Layout(height='50vh', width='100%'), value={'gui_settings': {}, 'ngsolve_version': '6.2.25…"
      ]
     },
     "metadata": {},
     "output_type": "display_data"
    },
    {
     "data": {
      "text/plain": [
       "BaseWebGuiScene"
      ]
     },
     "execution_count": 5,
     "metadata": {},
     "output_type": "execute_result"
    }
   ],
   "source": [
    "u0 = GridFunction(fes)\n",
    "uD = GridFunction(fes)\n",
    "uD.Set(.............. , definedon = mesh.Boundaries(\"left|right\")) # set -1 on left, +1 on right\n",
    "Draw(uD)"
   ]
  },
  {
   "cell_type": "code",
   "execution_count": 6,
   "id": "cd071271-95e1-4f00-8add-fe819f2c1e4f",
   "metadata": {},
   "outputs": [
    {
     "data": {
      "application/vnd.jupyter.widget-view+json": {
       "model_id": "97432124453f42e4a6b91bc73e868d73",
       "version_major": 2,
       "version_minor": 0
      },
      "text/plain": [
       "WebGuiWidget(layout=Layout(height='50vh', width='100%'), value={'gui_settings': {}, 'ngsolve_version': '6.2.25…"
      ]
     },
     "metadata": {},
     "output_type": "display_data"
    },
    {
     "data": {
      "text/plain": [
       "BaseWebGuiScene"
      ]
     },
     "execution_count": 6,
     "metadata": {},
     "output_type": "execute_result"
    }
   ],
   "source": [
    "u0.vec.data = bf.mat.Inverse(inverse = \"sparsecholesky\", freedofs = fes.FreeDofs()) * (lf.vec - bf.mat * uD.vec)\n",
    "Draw(u0)"
   ]
  },
  {
   "cell_type": "code",
   "execution_count": null,
   "id": "15f42125-91fd-48e4-b1ce-407ed92ebbf2",
   "metadata": {},
   "outputs": [
    {
     "data": {
      "application/vnd.jupyter.widget-view+json": {
       "model_id": "3b46f873d2724338804e8cc3a13346eb",
       "version_major": 2,
       "version_minor": 0
      },
      "text/plain": [
       "WebGuiWidget(layout=Layout(height='50vh', width='100%'), value={'gui_settings': {}, 'ngsolve_version': '6.2.25…"
      ]
     },
     "metadata": {},
     "output_type": "display_data"
    },
    {
     "data": {
      "text/plain": [
       "BaseWebGuiScene"
      ]
     },
     "execution_count": 7,
     "metadata": {},
     "output_type": "execute_result"
    }
   ],
   "source": [
    "uSol = ..............\n",
    "Draw(uSol, mesh)"
   ]
  },
  {
   "cell_type": "markdown",
   "id": "61ab6309-2a82-479d-ae51-b5b8d2273f28",
   "metadata": {},
   "source": [
    "_______\n",
    "## 2) Lagrange multiplier\n",
    "\n",
    "$$ \\left\\{ \\begin{array}{lll}\n",
    "\\int_\\Omega \\nabla v \\cdot \\epsilon \\nabla u & + \\int_{\\Gamma_{R}} \\lambda v  \\;ds + \\int_{\\Gamma_{L}} \\lambda v  \\;ds &= 0\\\\\n",
    "\\int_{\\Gamma_{R}} \\mu u  \\;ds + \\int_{\\Gamma_{L}} \\mu u  \\;ds & & =  \\int_{\\Gamma_{R}} \\mu \\cdot 1   \\;ds -  \\int_{\\Gamma_{L}} \\mu \\cdot 1   \\;ds  \\\\\n",
    "\\end{array} \\right.\n",
    "$$"
   ]
  },
  {
   "cell_type": "code",
   "execution_count": 8,
   "id": "ee45f17e-9a39-4bbc-bbde-ae026c781766",
   "metadata": {},
   "outputs": [],
   "source": [
    "Hprimal = H1(mesh)\n",
    "Hdual = H1(mesh, definedon=mesh.Boundaries(\"left|right\"))\n",
    "fes = Hprimal*Hdual"
   ]
  },
  {
   "cell_type": "code",
   "execution_count": null,
   "id": "a6eb8db9-0b10-4ebe-a105-e0a00f9b2b7f",
   "metadata": {},
   "outputs": [
    {
     "data": {
      "text/plain": [
       "<ngsolve.comp.LinearForm at 0x1217fa71ef0>"
      ]
     },
     "execution_count": 9,
     "metadata": {},
     "output_type": "execute_result"
    }
   ],
   "source": [
    "u, lam = fes.TrialFunction()\n",
    "v, mu = fes.TestFunction()\n",
    "\n",
    "bf = BilinearForm(fes)\n",
    "bf += ............\n",
    "bf.Assemble()\n",
    "\n",
    "lf = LinearForm(fes)\n",
    "lf += .............\n",
    "lf.Assemble()"
   ]
  },
  {
   "cell_type": "code",
   "execution_count": null,
   "id": "bdc3ea08-28ff-491e-8d03-0d33dd9231c3",
   "metadata": {},
   "outputs": [],
   "source": [
    "sol = GridFunction(fes)\n",
    "sol.vec.data = bf.mat.Inverse(freedofs = fes.FreeDofs(), inverse = \"sparsecholesky\") * lf.vec"
   ]
  },
  {
   "cell_type": "markdown",
   "id": "651cc9d0-3eaf-46df-a465-0cd456225dfe",
   "metadata": {},
   "source": [
    "- Can the system be solved using `inverse = \"sparsecholesky\"`? why?"
   ]
  },
  {
   "cell_type": "markdown",
   "id": "7c189243",
   "metadata": {},
   "source": [
    "Now with another type of solver (iterative):"
   ]
  },
  {
   "cell_type": "code",
   "execution_count": null,
   "id": "557893bd",
   "metadata": {},
   "outputs": [],
   "source": [
    "from ngsolve.solvers import GMRes\n",
    "sol = GridFunction(fes)\n",
    "u0 = sol.vec.CreateVector(); u0[:] = 0\n",
    "GMRes(A=bf.mat,  b=lf.vec, x=u0, freedofs = fes.FreeDofs(), tol=1e-15, printrates=True, maxsteps=1000)\n",
    "sol.vec.data = u0"
   ]
  },
  {
   "cell_type": "code",
   "execution_count": 11,
   "id": "62f3aebd-eb23-4f18-af17-16e6a05c2181",
   "metadata": {},
   "outputs": [
    {
     "data": {
      "application/vnd.jupyter.widget-view+json": {
       "model_id": "0bd23824d45042e1a52715c240eee42e",
       "version_major": 2,
       "version_minor": 0
      },
      "text/plain": [
       "WebGuiWidget(layout=Layout(height='50vh', width='100%'), value={'gui_settings': {}, 'ngsolve_version': '6.2.25…"
      ]
     },
     "metadata": {},
     "output_type": "display_data"
    },
    {
     "data": {
      "text/plain": [
       "BaseWebGuiScene"
      ]
     },
     "execution_count": 11,
     "metadata": {},
     "output_type": "execute_result"
    }
   ],
   "source": [
    "Draw(sol.components[0], mesh) # primal"
   ]
  },
  {
   "cell_type": "markdown",
   "id": "b73db639-2110-4931-ae7f-dd44cec2c360",
   "metadata": {},
   "source": [
    "**Note 1** : the dual variable (Lagrange multiplier) has a physical interpretation (conjugated variable necessary to impose the constraint)"
   ]
  },
  {
   "cell_type": "markdown",
   "id": "77e899d1-9b4f-4a73-ae4d-e6aa23577001",
   "metadata": {},
   "source": [
    "**Note 2** : if need to do a lot of simulations with the same core problem but different constraints, using Schur complement can help to accelerate the computations.\n",
    "\n",
    "https://mice.cs.columbia.edu/getTechreport.php?techreportID=1581&format=pdf"
   ]
  }
 ],
 "metadata": {
  "kernelspec": {
   "display_name": "Python 3 (ipykernel)",
   "language": "python",
   "name": "python3"
  },
  "language_info": {
   "codemirror_mode": {
    "name": "ipython",
    "version": 3
   },
   "file_extension": ".py",
   "mimetype": "text/x-python",
   "name": "python",
   "nbconvert_exporter": "python",
   "pygments_lexer": "ipython3",
   "version": "3.13.7"
  }
 },
 "nbformat": 4,
 "nbformat_minor": 5
}
