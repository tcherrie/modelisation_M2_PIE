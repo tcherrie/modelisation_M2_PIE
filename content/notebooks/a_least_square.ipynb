{
 "cells": [
  {
   "cell_type": "markdown",
   "id": "3055a077-3fa8-43a7-b107-31779769007b",
   "metadata": {},
   "source": [
    "# I) Least square method"
   ]
  },
  {
   "cell_type": "code",
   "execution_count": null,
   "id": "5e164820-891e-4248-ba36-68c9baa09932",
   "metadata": {},
   "outputs": [],
   "source": [
    "from ngsolve import *\n",
    "from ngsolve.webgui import Draw"
   ]
  },
  {
   "cell_type": "markdown",
   "id": "24fee6e4-1061-414b-ad58-b2ed17699f7f",
   "metadata": {},
   "source": [
    "______\n",
    "# 1) Continuous function\n",
    "## a) Reference function\n",
    "\n",
    "We consider the following analytical function supported on a unit square :\n",
    "$$ u_0 : \\left \\{ \\begin{array}{rcl}\n",
    "\\Omega = [0,1]^2 & \\rightarrow & \\mathbb R \\\\\n",
    "(x_1 , x_2) &\\mapsto & (x_1-0.5)^2 + (x_2-0.5)^2\n",
    "\\end{array} \\right.$$"
   ]
  },
  {
   "cell_type": "code",
   "execution_count": null,
   "id": "4b55eb19-4a0a-4ada-b88f-7611ad394040",
   "metadata": {},
   "outputs": [],
   "source": [
    "from utils.myGeometries import square\n",
    "Omega = square(maxh=0.2)          # generates the domain and its disretization\n",
    "x1 = x; x2 = y;                   # to keep the same notation than in the lecture notes\n",
    "u0 = (x1-0.5)**2 + (x2-0.5)**2    # define the analytic function\n",
    "Draw(u0, Omega, settings = { \"Objects\" : { \"Wireframe\" : False }, \"deformation\" :  1})"
   ]
  },
  {
   "cell_type": "markdown",
   "id": "fbf7c213-5468-4de4-8f10-cdebeb73810b",
   "metadata": {},
   "source": [
    "_____\n",
    "## b) Discretization\n",
    "The domain is discretized in conforming triangular elements (no overlap, no nodes within edges)."
   ]
  },
  {
   "cell_type": "code",
   "execution_count": null,
   "id": "b467c0bf-f225-4530-aa04-802aae01ac93",
   "metadata": {},
   "outputs": [],
   "source": [
    "Draw(Omega)"
   ]
  },
  {
   "cell_type": "markdown",
   "id": "5287fc85-b1c0-455f-8221-694660305084",
   "metadata": {},
   "source": [
    "____\n",
    "## c) Function spaces\n",
    "\n",
    "### i) $L^2(\\Omega)$ (element DoFs, discontinuous)\n",
    "\n",
    "$$ L^2(\\Omega) = \\left \\{ u : \\Omega \\rightarrow \\mathbb R, \\int_\\Omega |u|^2 \\leq \\infty \\right \\} $$\n",
    "\n",
    "Discretized version $L^2(\\Omega)$ corresponds to the space of discontinuous functions, defined element-wise."
   ]
  },
  {
   "cell_type": "code",
   "execution_count": null,
   "id": "f5fde95b-9a17-423c-98fa-7a1dc3dfc65d",
   "metadata": {},
   "outputs": [],
   "source": [
    "fesL2 = L2(Omega, order = 0)                     # define the discretized function space\n",
    "u_L2 = GridFunction(fesL2)                        # define a discretized function\n",
    "u_L2.vec.data[50] = 1                             # set a DoF to 1\n",
    "Draw(u_L2, settings = {\"deformation\" :  0.5})     # vizualize the function"
   ]
  },
  {
   "cell_type": "markdown",
   "id": "1052e3b5-6512-4817-819e-e2a50f21a9f9",
   "metadata": {},
   "source": [
    "### ii) $H^1(\\Omega)$ (nodal DoF, continuous)\n",
    "\n",
    "$$ H^1(\\Omega) = \\left \\{ u \\in L^2(\\Omega), \\nabla u \\in L^2(\\Omega) \\right \\} $$ \n",
    "\n",
    "Discretization of $H^1(\\Omega)$ corresponds to the space of continuous functions, defined node-wise."
   ]
  },
  {
   "cell_type": "code",
   "execution_count": null,
   "id": "d70f0806-5732-41f0-9f22-ece240b21939",
   "metadata": {},
   "outputs": [],
   "source": [
    "fesH1 = H1(Omega, order = 1)                    # define the discretized function space\n",
    "u_H1 = GridFunction(fesH1)                        # define a discretized function\n",
    "u_H1.vec.data[35] = 1                             # set a DoF to 1\n",
    "Draw(u_H1, settings = {\"deformation\" :  0.5})     # vizualize the function"
   ]
  },
  {
   "cell_type": "markdown",
   "id": "b5f43f45-0908-440d-9aac-3c5e55f0ead0",
   "metadata": {},
   "source": [
    "## d) Least square formulation\n",
    "We look for a function $u\\in H$ (with $H=L^2(\\Omega)$ or $H^1(\\Omega)$ setting the regularity level we want), minimizing the integral of the square error with the reference :\n",
    "$$ u^* = \\arg \\min_{u\\in H} J(u) = \\frac{1}{2}\\int_\\Omega (u-u_0)^2 $$"
   ]
  },
  {
   "cell_type": "code",
   "execution_count": null,
   "id": "9108cded-40d1-445e-92b7-176a8cd121a3",
   "metadata": {},
   "outputs": [],
   "source": [
    "def J(u):\n",
    "    \"\"\" integral of the square error \"\"\"\n",
    "    return Integrate( .......  , u.space.mesh) # complete the code"
   ]
  },
  {
   "cell_type": "markdown",
   "id": "768c74b3-6bf4-4c8c-bf21-f3eaebb77628",
   "metadata": {},
   "source": [
    "### i) Directional derivative\n",
    "Given any function $v\\in H$ , the directionnal derivative evaluates the first order for a small step in the direction of $v$\n",
    "$$J'(u; v) =  \\lim_{t\\rightarrow 0} \\frac{J(u+tv) - J(u)}{t} $$"
   ]
  },
  {
   "cell_type": "markdown",
   "id": "47781f5a-5d52-4f3c-9133-89e3dd24d379",
   "metadata": {},
   "source": [
    "**Exercise**  : find the expression of $J'(u;v)$"
   ]
  },
  {
   "cell_type": "markdown",
   "id": "04d49abf-a47c-4db6-8de5-35232175721c",
   "metadata": {},
   "source": [
    "### ii) Descent direction\n",
    "\n",
    "For any $\\alpha >0$ we have always \n",
    "\n",
    "$$ J'(u; -\\alpha (u-u_0) ) = -\\alpha \\int_\\Omega (u-u_0)^2 \\leq 0 $$\n",
    "\n",
    "So $-(u-u_0)$ is a descent direction for $\\alpha$ small enough."
   ]
  },
  {
   "cell_type": "code",
   "execution_count": null,
   "id": "cd039e84-0022-477c-a774-760e475758c5",
   "metadata": {},
   "outputs": [],
   "source": [
    "def descent_direction(u):\n",
    "    return ...........   # complete the code"
   ]
  },
  {
   "cell_type": "markdown",
   "id": "aa2509f2-7d10-4fca-b091-fd01163e690f",
   "metadata": {},
   "source": [
    "### iii) Gradient descent\n",
    "\n",
    "Having a descent direction means we can decrease $J$ by adding $\\alpha (u_0-u)$ iteratively to the current trial function $u$ (or to its dofs, after discretization)."
   ]
  },
  {
   "cell_type": "markdown",
   "id": "7d886da5-f49b-43cb-bc69-834944d84469",
   "metadata": {},
   "source": [
    "#### $H = L^2(\\Omega)$"
   ]
  },
  {
   "cell_type": "code",
   "execution_count": null,
   "id": "c0eac4a6-328d-48a6-8faa-9cab7c0d6652",
   "metadata": {},
   "outputs": [],
   "source": [
    "uNew = GridFunction(u_L2.space)\n",
    "alpha = 0.1\n",
    "Jlist_L2 = [J(u_L2)]\n",
    "for i in range(100):\n",
    "    uNew.Set(u_L2 + alpha * descent_direction(u_L2) )\n",
    "    u_L2.Set(uNew)\n",
    "    Jlist_L2.append(J(u_L2))\n",
    "    # step size adaptation\n",
    "    if Jlist_L2[-1] < Jlist_L2[-2]:\n",
    "        alpha *= 1.2\n",
    "    else:\n",
    "        alpha /=2"
   ]
  },
  {
   "cell_type": "code",
   "execution_count": null,
   "id": "a92dbd5e-4822-41ac-a278-cd13fedd5f43",
   "metadata": {},
   "outputs": [],
   "source": [
    "import matplotlib.pyplot as plt\n",
    "plt.semilogy(Jlist_L2); plt.xlabel(\"Iterations\"); plt.ylabel(\"J\"); plt.show()"
   ]
  },
  {
   "cell_type": "markdown",
   "id": "1004f46d-072d-4e79-91e6-44058fe27076",
   "metadata": {},
   "source": [
    "**Question** : The final error value is not zero! **Why?**"
   ]
  },
  {
   "cell_type": "code",
   "execution_count": null,
   "id": "ca50b293-2558-498a-bcf9-32dadf3b056d",
   "metadata": {},
   "outputs": [],
   "source": [
    "Draw(u_L2, settings = {\"deformation\" :  0.5})   # Draw the interpolated function"
   ]
  },
  {
   "cell_type": "markdown",
   "id": "90dfa9c2-0b2f-4913-a3dd-d413cef9e2ff",
   "metadata": {},
   "source": [
    "#### $H = H^1(\\Omega)$"
   ]
  },
  {
   "cell_type": "code",
   "execution_count": null,
   "id": "5e922ed3-81d7-47e8-a1e4-7ecfae39e8f3",
   "metadata": {},
   "outputs": [],
   "source": [
    "uNew = GridFunction(u_H1.space)\n",
    "alpha = 0.1\n",
    "Jlist_H1 = [J(u_H1)]\n",
    "for i in range(100):\n",
    "    uNew.Set(u_H1 + alpha * descent_direction(u_H1) )\n",
    "    u_H1.Set(uNew)\n",
    "    Jlist_H1.append(J(u_H1))\n",
    "    # step size adaptation\n",
    "    if Jlist_H1[-1] < Jlist_H1[-2]:\n",
    "        alpha *= 1.2\n",
    "    else:\n",
    "        alpha /=2"
   ]
  },
  {
   "cell_type": "code",
   "execution_count": null,
   "id": "455424be-a27e-445f-987f-f22888295d2b",
   "metadata": {},
   "outputs": [],
   "source": [
    "plt.semilogy(Jlist_H1); plt.xlabel(\"Iterations\"); plt.ylabel(\"J\"); plt.show()"
   ]
  },
  {
   "cell_type": "markdown",
   "id": "bb6947b5-ec2d-4044-a6d8-f3e4b25b40ec",
   "metadata": {},
   "source": [
    "The final error is lower! \n",
    "- If $u_0$ is regular, then the interpolation should also be regular."
   ]
  },
  {
   "cell_type": "code",
   "execution_count": null,
   "id": "c3a805f2-3708-4a54-9242-c44a10e8e3d7",
   "metadata": {},
   "outputs": [],
   "source": [
    "Draw(u_H1, settings = {\"deformation\" :  0.5})    # Draw the interpolated function"
   ]
  },
  {
   "cell_type": "markdown",
   "id": "1f9574c9-3baf-42b1-b27e-0a3b36b59d3d",
   "metadata": {},
   "source": [
    "______\n",
    "## Exercise 1) \n",
    "\n",
    "The **size** of the mesh elements can be changed using the `maxh` parameter :"
   ]
  },
  {
   "cell_type": "code",
   "execution_count": null,
   "id": "a345c45a-4bbb-46b5-93f4-8b62d6b53d18",
   "metadata": {},
   "outputs": [],
   "source": [
    "maxh = 0.1  # to change (can be done in the code direcly above)\n",
    "Omega = Mesh(unit_square.GenerateMesh(maxh=maxh))\n",
    "Draw(Omega)"
   ]
  },
  {
   "cell_type": "markdown",
   "id": "bc2e62b1-4b72-4921-a797-afec3398a9c9",
   "metadata": {},
   "source": [
    "**Experiment** : Draw a logscale plot of the final error $J_{end}$ with respect to $h$ for $u\\in H^1(\\Omega)$ and $u\\in L^2(\\Omega)$. What is the convergence rate ($1/\\sqrt{h}$, $1/h$, $1/h^2$ ...) ?\n",
    "\n",
    "**Analysis** : \n",
    "- Explain why having a finer mesh decreases the error.\n",
    "- Are the convergence rate the same for the continuous and discontinuous interpolations? Explain. "
   ]
  },
  {
   "cell_type": "markdown",
   "id": "3331719a-c13e-4cf6-97aa-c98535042398",
   "metadata": {},
   "source": [
    "______\n",
    "## Exercise 2) \n",
    "\n",
    "The interpolation function's **order** of the interpolation function can be changed using the `order` argument.\n",
    "\n",
    "In NGSolve, hierarchical enrichment of the interpolation are used, meaning some higher degree functions are added to the lower degree ones to enable exact interpolation of any polynomial of degree `order`."
   ]
  },
  {
   "cell_type": "code",
   "execution_count": null,
   "id": "7d922c19-499e-42aa-a96c-d6d969aac5b3",
   "metadata": {},
   "outputs": [],
   "source": [
    "myOrder = 2\n",
    "fesH1 = H1(Omega, order = myOrder)              # define the discretized function space\n",
    "u_H1 = GridFunction(fesH1)                        # define a discretized function\n",
    "u_H1.vec.data[30] = 1                             # set a nodal DoF to 1\n",
    "u_H1.vec.data[90] = 1                             # set an edge bubble DoF to 1\n",
    "Draw(u_H1, settings = {\"deformation\" :  0.5})     # vizualize the function"
   ]
  },
  {
   "cell_type": "markdown",
   "id": "85de265b-bde6-4da6-a62e-8043a94e53fa",
   "metadata": {},
   "source": [
    "**Experimentation 1** : Draw a logscale plot of the final error $J_{end}$ with respect to $h$ for and $u\\in L^2(\\Omega)$, for $p=0,1,2$. What are the convergence rates ?\n",
    "\n",
    "**Analysis** : \n",
    "- Comment the $p=2$ case. What would happen for the $p=3$ case?"
   ]
  },
  {
   "cell_type": "markdown",
   "id": "9ab91123-b4a5-4773-a6fc-552dc2d77262",
   "metadata": {},
   "source": [
    "____________\n",
    "# 2) Discontinuous function"
   ]
  },
  {
   "cell_type": "markdown",
   "id": "c674c2af-30ad-4547-aafa-0a857246d528",
   "metadata": {},
   "source": [
    "## a) Reference function\n",
    "\n",
    "We consider the following function supported on a unit square :\n",
    "$$ u_0 : \\left \\{ \\begin{array}{rcl}\n",
    "\\Omega = [0,1]^2 & \\rightarrow & \\mathbb R \\\\\n",
    "(x,y) &\\mapsto & \\mathbb{1}_{[0.4,0.6]^2}\n",
    "\\end{array} \\right.$$"
   ]
  },
  {
   "cell_type": "code",
   "execution_count": null,
   "id": "b33a5bd9-3de1-4aca-a8ae-6b5720ba0f7a",
   "metadata": {},
   "outputs": [],
   "source": [
    "from netgen.geom2d import CSG2d, Rectangle\n",
    "maxh = 0.1\n",
    "geo = CSG2d()\n",
    "\n",
    "# define some geometrical primitives\n",
    "box = Rectangle( pmin=(0,0), pmax=(1,1), mat=\"out\")\n",
    "rect = Rectangle( pmin=(0.3,0.3), pmax=(0.7,0.7), mat=\"in\")\n",
    "geo.Add(box-rect)\n",
    "geo.Add(rect)\n",
    "\n",
    "Omega2 = Mesh(geo.GenerateMesh(maxh=maxh))\n",
    "\n",
    "u0 = Omega2.MaterialCF({\"in\" : 1})\n",
    "Draw(u0, Omega2,  settings = {\"deformation\" :  0.5})"
   ]
  },
  {
   "cell_type": "markdown",
   "id": "2769c5f0-2f41-4c2e-a0b9-378888927b65",
   "metadata": {},
   "source": [
    "## b) Interpolation with continuous function"
   ]
  },
  {
   "cell_type": "code",
   "execution_count": null,
   "id": "324af217-1cee-4e33-8268-15b1a99b0eb5",
   "metadata": {},
   "outputs": [],
   "source": [
    "fesH1 = H1(Omega2, order = 1)                    # define the discretized function space\n",
    "u_H1 = GridFunction(fesH1)                        # define a discretized function\n",
    "\n",
    "uNew = GridFunction(u_H1.space)\n",
    "alpha = 0.1\n",
    "Jlist_H1 = [J(u_H1)]\n",
    "for i in range(100):\n",
    "    uNew.Set(u_H1 + alpha * descent_direction(u_H1) )\n",
    "    u_H1.Set(uNew)\n",
    "    Jlist_H1.append(J(u_H1))\n",
    "    if Jlist_H1[-1] < Jlist_H1[-2]:\n",
    "        alpha *= 1.2\n",
    "    else:\n",
    "        alpha /=2\n",
    "# Plot the convergence\n",
    "plt.semilogy(Jlist_H1); plt.xlabel(\"Iterations\"); plt.ylabel(\"J\"); plt.show()"
   ]
  },
  {
   "cell_type": "code",
   "execution_count": null,
   "id": "41324989-78b7-4a5f-a89d-35c48bfbf771",
   "metadata": {},
   "outputs": [],
   "source": [
    "Draw(u_H1,  settings = {\"deformation\" :  0.5})"
   ]
  },
  {
   "cell_type": "markdown",
   "id": "fcc8a5bc-cbdc-4bf5-8aa1-7b6324c8796e",
   "metadata": {},
   "source": [
    "The result is not satisfying : the interpolation has too much regularity! The discontinuity cannot be captured."
   ]
  },
  {
   "cell_type": "markdown",
   "id": "1010e7d1-d6df-4c2d-afb5-61a72f10514b",
   "metadata": {},
   "source": [
    "## b) Interpolation with discontinuous function"
   ]
  },
  {
   "cell_type": "code",
   "execution_count": null,
   "id": "68d6b3cd-bf22-438c-9ba6-972e22c255bf",
   "metadata": {},
   "outputs": [],
   "source": [
    "fesL2 = L2(Omega2, order = 0)                    # define the discretized function space\n",
    "u_L2 = GridFunction(fesL2)                        # define a discretized function\n",
    "uNew = GridFunction(u_L2.space)\n",
    "alpha = 0.1\n",
    "Jlist_L2 = [J(u_L2)]\n",
    "for i in range(100):\n",
    "    uNew.Set(u_L2 + alpha * descent_direction(u_L2) )\n",
    "    u_L2.Set(uNew)\n",
    "    Jlist_L2.append(J(u_L2))\n",
    "    if Jlist_L2[-1] < Jlist_L2[-2]:\n",
    "        alpha *= 1.2\n",
    "    else:\n",
    "        alpha /=2\n",
    "# Plot the convergence\n",
    "plt.semilogy(Jlist_L2); plt.xlabel(\"Iterations\"); plt.ylabel(\"J\"); plt.show()"
   ]
  },
  {
   "cell_type": "code",
   "execution_count": null,
   "id": "697bd15a-495e-4fb8-ad9a-05b310c36987",
   "metadata": {},
   "outputs": [],
   "source": [
    "Draw(u_L2,  settings = {\"deformation\" :  0.5})"
   ]
  },
  {
   "cell_type": "markdown",
   "id": "190110e5-3224-45d6-b79b-5eeddba99243",
   "metadata": {},
   "source": [
    " **Take home message** : the interpolation should be carefully chosen!\n",
    " - **Not enough regularity** leads to ***slow convergence***, needing a lot of elements to decrease the approximation error enough\n",
    " - **Too much regularity** leads to ***wrong results***."
   ]
  }
 ],
 "metadata": {
  "kernelspec": {
   "display_name": "Python 3 (ipykernel)",
   "language": "python",
   "name": "python3"
  },
  "language_info": {
   "codemirror_mode": {
    "name": "ipython",
    "version": 3
   },
   "file_extension": ".py",
   "mimetype": "text/x-python",
   "name": "python",
   "nbconvert_exporter": "python",
   "pygments_lexer": "ipython3",
   "version": "3.13.7"
  }
 },
 "nbformat": 4,
 "nbformat_minor": 5
}
