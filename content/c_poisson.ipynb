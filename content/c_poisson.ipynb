{
 "cells": [
  {
   "cell_type": "markdown",
   "id": "039c811d-dd8d-4063-981c-0fbcb59f682b",
   "metadata": {},
   "source": [
    "# III) Poisson problem\n",
    "\n",
    "We consider the following classical Poisson problem (inspired from electrostatics)\n",
    "\n",
    "$$ \n",
    "\\begin{array}{rcll}\n",
    "-\\nabla \\cdot (\\epsilon \\nabla u) & = & \\rho & \\text{in}~\\Omega \\\\\n",
    "\\text{some boundary conditions} &  & & \\text{on} & \\partial \\Omega\n",
    "\\end{array}\n",
    "$$\n"
   ]
  },
  {
   "cell_type": "code",
   "execution_count": 1,
   "id": "fa1ca554-ea14-46f2-bdb7-3cada32cfdb9",
   "metadata": {},
   "outputs": [],
   "source": [
    "from ngsolve import *\n",
    "from ngsolve.webgui import Draw"
   ]
  },
  {
   "cell_type": "markdown",
   "id": "358d0cc2-7bbd-4e48-ae16-21f357a55a10",
   "metadata": {},
   "source": [
    "_____\n",
    "## 1) Variational formulation\n",
    "\n",
    "**Method** : \n",
    "1. Chose the appropriate function space\n",
    "2. Multiply by a test function $v$ and integrate\n",
    "3. Decrease the derivative order using Green formula to avoid derivative of discontinuous functions\n",
    "\n",
    "**NB** : derivate discontinuous functions is possible using distribution theory, so what is before makes sense!"
   ]
  },
  {
   "cell_type": "markdown",
   "id": "77fe604b-3dce-42be-b8cd-e842edbe0d91",
   "metadata": {},
   "source": [
    "Let's consider $v\\in H$ (we leave the definition of $H$ for later). Then\n",
    "\n",
    "$$ - \\int_\\Omega v \\nabla \\cdot (\\epsilon \\nabla u) = \\int_\\Omega v \\rho $$\n",
    "\n",
    "- Leibniz formula : $\\nabla \\cdot (M \\vec{A}) = M \\nabla \\cdot \\vec{A} + \\vec{A} \\cdot \\nabla M$\n",
    "- Divergence theorem : $\\int_\\Omega \\nabla \\cdot \\vec{A} = \\int_{\\partial \\Omega} \\vec{A} \\cdot \\vec{n}$"
   ]
  },
  {
   "cell_type": "markdown",
   "id": "69d246e7-409d-4cac-aac4-0b625bd09ae3",
   "metadata": {},
   "source": [
    "$$ \\Rightarrow - \\int_\\Omega \\nabla \\cdot (v \\epsilon \\nabla u) + \\int_\\Omega \\nabla v \\cdot \\epsilon \\nabla u =  \\int_\\Omega v \\rho$$\n",
    "$$ \\Rightarrow \\int_\\Omega \\nabla v \\cdot \\epsilon \\nabla u - \\int_{\\partial \\Omega} v \\epsilon \\nabla u \\cdot n =  \\int_\\Omega v \\rho$$"
   ]
  },
  {
   "cell_type": "markdown",
   "id": "8498ca90-1f30-4740-bb19-8414705378b2",
   "metadata": {},
   "source": [
    "There is now one boundary term. On a part of this boundary, we can have \"natural\" boundary conditions :\n",
    "- $\\epsilon\\nabla u \\cdot n = g $ : Neumann\n",
    "- $\\epsilon\\nabla u \\cdot n = g - r u $ : Robin\n",
    " \n",
    "Or essential boundary conditions, meaning we have to change the definition of the function space $H$:\n",
    "- $u = u_D$ : Dirichlet\n",
    "- periodicity, anti-periodicity, etc.\n",
    "\n",
    "The space should be $H^1$ + essential boundary conditions."
   ]
  },
  {
   "cell_type": "markdown",
   "id": "1a5c1419-5ece-4b76-a6a9-d4c45794572c",
   "metadata": {},
   "source": [
    "_____\n",
    "## 2) Homogeneous Dirichlet & Neumann\n",
    "\n",
    "\n",
    "$$ \n",
    "\\left \\{\\begin{array}{rcll}\n",
    "-\\nabla \\cdot (\\epsilon \\nabla u) & = & \\rho & \\text{in}~\\Omega \\\\\n",
    "\\epsilon \\nabla u \\cdot n & =  & 0 & \\text{on}~\\Gamma_N ~\\text{(left \\& top)} \\\\\n",
    " u & =  & 0 & \\text{on}~\\Gamma_D ~\\text{(bottom \\& right)} \\\\\n",
    "\\end{array} \\right.\n",
    "$$\n",
    "\n",
    "Dirichlet should appear in the space \n",
    "\n",
    "$$H = \\{u\\in H^1(\\Omega), u = 0 ~\\text{on}~\\Gamma_D \\} $$"
   ]
  },
  {
   "cell_type": "code",
   "execution_count": 2,
   "id": "cee3221e-a4a0-4023-ae79-74b11b59b55e",
   "metadata": {},
   "outputs": [
    {
     "data": {
      "application/vnd.jupyter.widget-view+json": {
       "model_id": "b74c43e0e6234c7eb845819201ce7aa0",
       "version_major": 2,
       "version_minor": 0
      },
      "text/plain": [
       "WebGuiWidget(layout=Layout(height='50vh', width='100%'), value={'gui_settings': {}, 'ngsolve_version': '6.2.25…"
      ]
     },
     "metadata": {},
     "output_type": "display_data"
    },
    {
     "name": "stdout",
     "output_type": "stream",
     "text": [
      "boundary names = ('bottom', 'right', 'top', 'left')\n"
     ]
    }
   ],
   "source": [
    "from utils.myGeometries import square\n",
    "Omega = square(maxh=0.1)    # generates the domain\n",
    "Draw(Omega)\n",
    "print(f\"boundary names = {Omega.GetBoundaries()}\")"
   ]
  },
  {
   "cell_type": "code",
   "execution_count": 3,
   "id": "b1c6942b-0195-4501-8370-934499d0382d",
   "metadata": {},
   "outputs": [],
   "source": [
    "rho = 1.\n",
    "fes = H1(Omega, order = 1, dirichlet  = \"bottom|right\") # top & left are homogeneous Newmann"
   ]
  },
  {
   "cell_type": "code",
   "execution_count": 4,
   "id": "20ebfc4a-c11f-45c5-8bf9-d7692267d38d",
   "metadata": {},
   "outputs": [],
   "source": [
    "rho = 1.\n",
    "eps = 1."
   ]
  },
  {
   "cell_type": "code",
   "execution_count": 5,
   "id": "239666fc-80e0-4411-bc1e-3eac2e43174f",
   "metadata": {},
   "outputs": [],
   "source": [
    "u, v = fes.TnT()\n",
    "bf = BilinearForm(fes)\n",
    "bf += grad(v) * eps * grad(u) * dx\n",
    "lf = LinearForm(fes)\n",
    "lf += v * rho * dx"
   ]
  },
  {
   "cell_type": "code",
   "execution_count": 6,
   "id": "ccdfc984-6979-4663-a769-e14971f127dc",
   "metadata": {},
   "outputs": [
    {
     "data": {
      "text/plain": [
       "<ngsolve.comp.LinearForm at 0x1837d3c2170>"
      ]
     },
     "execution_count": 6,
     "metadata": {},
     "output_type": "execute_result"
    }
   ],
   "source": [
    "bf.Assemble()\n",
    "lf.Assemble()"
   ]
  },
  {
   "cell_type": "code",
   "execution_count": 7,
   "id": "39a3a6a1-1ad5-4e7e-be8a-8802901d7c18",
   "metadata": {},
   "outputs": [
    {
     "data": {
      "application/vnd.jupyter.widget-view+json": {
       "model_id": "5d49bb7018854c5f9bb76d4002bdccd8",
       "version_major": 2,
       "version_minor": 0
      },
      "text/plain": [
       "WebGuiWidget(layout=Layout(height='50vh', width='100%'), value={'gui_settings': {}, 'ngsolve_version': '6.2.25…"
      ]
     },
     "metadata": {},
     "output_type": "display_data"
    },
    {
     "data": {
      "text/plain": [
       "BaseWebGuiScene"
      ]
     },
     "execution_count": 7,
     "metadata": {},
     "output_type": "execute_result"
    }
   ],
   "source": [
    "sol = GridFunction(fes)\n",
    "sol.vec.data += bf.mat.Inverse(freedofs = fes.FreeDofs(), inverse = \"sparsecholesky\") * lf.vec\n",
    "Draw(sol)"
   ]
  },
  {
   "cell_type": "markdown",
   "id": "d3fb1c6f-bffb-42f1-b541-a53ffeb59501",
   "metadata": {},
   "source": [
    "Have a look at the $\\vec{E}$ field :"
   ]
  },
  {
   "cell_type": "code",
   "execution_count": 10,
   "id": "b2e16127-932b-47ed-9fb2-ccd21d42e031",
   "metadata": {},
   "outputs": [
    {
     "data": {
      "application/vnd.jupyter.widget-view+json": {
       "model_id": "a6cb7f67d0ba4c26877059349223ea2f",
       "version_major": 2,
       "version_minor": 0
      },
      "text/plain": [
       "WebGuiWidget(layout=Layout(height='50vh', width='100%'), value={'gui_settings': {'Objects': {'Wireframe': Fals…"
      ]
     },
     "metadata": {},
     "output_type": "display_data"
    },
    {
     "data": {
      "text/plain": [
       "BaseWebGuiScene"
      ]
     },
     "execution_count": 10,
     "metadata": {},
     "output_type": "execute_result"
    }
   ],
   "source": [
    "Draw(- grad(sol), Omega, \n",
    "     vectors={\"grid_size\" : 20, \"offset\" : 0.5 },\n",
    "     settings = { \"Objects\" : { \"Wireframe\" : False, \"Surface\" : False }}) "
   ]
  },
  {
   "cell_type": "markdown",
   "id": "0bb70470-d22a-41a7-a713-991498820112",
   "metadata": {},
   "source": [
    "___\n",
    "### Exercise : \n",
    "\n",
    "To integrate on a boundary, we use `ds(\"name\")` where `name` is the label of the boundary (without labels, all boundaries are considered).\n",
    "Write the variational formulation and solve the following problem :\n",
    "\n",
    "$$ \n",
    "\\left \\{\\begin{array}{rcll}\n",
    "-\\nabla \\cdot (\\epsilon \\nabla u) & = & \\rho & \\text{in}~\\Omega \\\\\n",
    "\\epsilon \\nabla u \\cdot n & =  & 0 & \\text{on}~\\Gamma_{N1} ~\\text{(left)} \\\\\n",
    "\\epsilon \\nabla u \\cdot n & =  & 1 & \\text{on}~\\Gamma_{N1} ~\\text{(right)} \\\\\n",
    " u & =  & 0 & \\text{on}~\\Gamma_{D} ~\\text{(bottom \\& top)} \\\\\n",
    "\\end{array} \\right.\n",
    "$$"
   ]
  }
 ],
 "metadata": {
  "kernelspec": {
   "display_name": "Python 3 (ipykernel)",
   "language": "python",
   "name": "python3"
  },
  "language_info": {
   "codemirror_mode": {
    "name": "ipython",
    "version": 3
   },
   "file_extension": ".py",
   "mimetype": "text/x-python",
   "name": "python",
   "nbconvert_exporter": "python",
   "pygments_lexer": "ipython3",
   "version": "3.13.7"
  }
 },
 "nbformat": 4,
 "nbformat_minor": 5
}
