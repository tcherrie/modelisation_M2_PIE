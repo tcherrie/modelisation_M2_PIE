{
 "cells": [
  {
   "cell_type": "markdown",
   "id": "57dc2d23-f147-4aa0-ad45-4d295240668d",
   "metadata": {},
   "source": [
    "# IV) Non-linear magnetostatics"
   ]
  },
  {
   "cell_type": "markdown",
   "id": "5a945a40-20f8-4967-9347-8e1806249df0",
   "metadata": {},
   "source": [
    "_______\n",
    "## 1) Equation\n",
    "\n",
    "We want to solve the following weak formulation, i.e., find $a\\in H^1_0 (\\Omega)$ such that\n",
    "\n",
    "$$ \\forall v\\in H^1_0(\\Omega) , \\quad \\int_\\Omega \\nu(|\\nabla a|^2) \\nabla a \\cdot \\nabla v = \\int_\\Omega v j $$\n",
    "\n",
    "with $\\nu$ the magnetic reluctivity, which is\n",
    "- $ \\nu = \\nu_0 $ in air and conductors\n",
    "- $ \\nu(b^2) = 100 + 10 \\exp(1.8 b^2 ) $ in iron\n",
    "\n",
    "and $j$ the current density that is\n",
    "- $ j = 0 $ in air and iron\n",
    "- $ j= +J $ in positive conductor\n",
    "- $ j = -J$ in negative conductor\n",
    "  \n",
    "with $J = 10\\;A/mm^2$. "
   ]
  },
  {
   "cell_type": "code",
   "execution_count": 1,
   "id": "cd815abb-a4f9-428f-9666-6c232678540d",
   "metadata": {},
   "outputs": [],
   "source": [
    "from ngsolve import *\n",
    "from ngsolve.webgui import Draw"
   ]
  },
  {
   "cell_type": "markdown",
   "id": "961f030a-7476-4f33-8485-5073b91a1572",
   "metadata": {},
   "source": [
    "________\n",
    "## 2) Geometry\n",
    "\n",
    "Without airgap, there is a risk of saturation !"
   ]
  },
  {
   "cell_type": "code",
   "execution_count": 25,
   "id": "0dfe336f-4d1b-4937-9856-95c48a0d8303",
   "metadata": {},
   "outputs": [
    {
     "data": {
      "application/vnd.jupyter.widget-view+json": {
       "model_id": "f2dde4f0e109482490837696046e0d91",
       "version_major": 2,
       "version_minor": 0
      },
      "text/plain": [
       "WebGuiWidget(layout=Layout(height='50vh', width='100%'), value={'gui_settings': {}, 'ngsolve_version': '6.2.25…"
      ]
     },
     "metadata": {},
     "output_type": "display_data"
    },
    {
     "data": {
      "text/plain": [
       "BaseWebGuiScene"
      ]
     },
     "execution_count": 25,
     "metadata": {},
     "output_type": "execute_result"
    }
   ],
   "source": [
    "from utils.myGeometries import gapedInductor\n",
    "mesh = gapedInductor(airgap = 0, h = 0.01) # no airgap\n",
    "Draw(mesh.MaterialCF({\"condN\":1, \"iron\":2, \"condP\":3}), mesh)"
   ]
  },
  {
   "cell_type": "markdown",
   "id": "f1e32969-f00a-4b8b-bc0a-e59eb7c8ce83",
   "metadata": {},
   "source": [
    "Get the names of regions and boundaries"
   ]
  },
  {
   "cell_type": "code",
   "execution_count": 3,
   "id": "d813c5a6-02d9-4319-b4c7-7247aa89228e",
   "metadata": {},
   "outputs": [
    {
     "data": {
      "text/plain": [
       "('air', 'iron', 'condP', 'condN')"
      ]
     },
     "execution_count": 3,
     "metadata": {},
     "output_type": "execute_result"
    }
   ],
   "source": [
    "mesh.GetMaterials()   # region names"
   ]
  },
  {
   "cell_type": "code",
   "execution_count": 4,
   "id": "74bc104f-c81e-428a-8333-1a81e7485305",
   "metadata": {},
   "outputs": [
    {
     "data": {
      "text/plain": [
       "('out',\n",
       " 'out',\n",
       " 'out',\n",
       " 'out',\n",
       " '',\n",
       " '',\n",
       " '',\n",
       " '',\n",
       " '',\n",
       " '',\n",
       " '',\n",
       " '',\n",
       " '',\n",
       " '',\n",
       " '',\n",
       " '',\n",
       " '',\n",
       " '',\n",
       " '',\n",
       " '')"
      ]
     },
     "execution_count": 4,
     "metadata": {},
     "output_type": "execute_result"
    }
   ],
   "source": [
    "mesh.GetBoundaries()   # boundaries names"
   ]
  },
  {
   "cell_type": "markdown",
   "id": "b4775c7e-39b0-41d9-8037-44ea3fac5f79",
   "metadata": {},
   "source": [
    "________\n",
    "## 3) Linear formulation\n",
    "\n",
    "Assume first $\\nu_{iron} = \\frac{\\nu_0}{1000}$\n",
    "Let's formulate and solve the problem!"
   ]
  },
  {
   "cell_type": "code",
   "execution_count": 5,
   "id": "511506e7-74b5-4511-9434-53114d907cf7",
   "metadata": {},
   "outputs": [],
   "source": [
    "nu0 = 1/(4e-7 * pi)  # m/H\n",
    "nu_iron = nu0 / 1000\n",
    "J = 10e6 # A/m^2\n",
    "R = CoefficientFunction( ((0,1),(-1,0)), dims = (2,2))"
   ]
  },
  {
   "cell_type": "markdown",
   "id": "bb3bf099-bb93-4d13-b468-2957072beaf0",
   "metadata": {},
   "source": [
    "### a) Function space"
   ]
  },
  {
   "cell_type": "code",
   "execution_count": 6,
   "id": "e19204a4-2ab7-470b-8ada-8d558d92b935",
   "metadata": {},
   "outputs": [],
   "source": [
    "fes = H1(mesh, dirichlet = \"out\")"
   ]
  },
  {
   "cell_type": "markdown",
   "id": "5299aa9e-413e-4a5e-8dd9-39f31c6850de",
   "metadata": {},
   "source": [
    "### b) Weak form"
   ]
  },
  {
   "cell_type": "code",
   "execution_count": 7,
   "id": "405008de-2a72-40c7-ba99-c27e3e701c6d",
   "metadata": {},
   "outputs": [],
   "source": [
    "a = fes.TrialFunction()\n",
    "v = fes.TestFunction()"
   ]
  },
  {
   "cell_type": "code",
   "execution_count": 8,
   "id": "419e71ae-f881-416c-ac2d-aaac4ecf3374",
   "metadata": {},
   "outputs": [],
   "source": [
    "bf = BilinearForm(fes)\n",
    "bf += nu0 * grad(a) * grad(v) * dx(\"air|condP|condN\")\n",
    "bf += nu_iron * grad(a) * grad(v) * dx(\"iron\")\n",
    "\n",
    "lf = LinearForm(fes)\n",
    "lf += v * J * dx(\"condP\") - v * J * dx(\"condN\")"
   ]
  },
  {
   "cell_type": "markdown",
   "id": "93ce395e-6d08-4c84-8e19-99109be300f4",
   "metadata": {},
   "source": [
    "### c) Assemble and solve the system"
   ]
  },
  {
   "cell_type": "code",
   "execution_count": null,
   "id": "db5fbd43-a6b1-402e-9311-b88570e1fa6c",
   "metadata": {},
   "outputs": [
    {
     "data": {
      "application/vnd.jupyter.widget-view+json": {
       "model_id": "08534181aaea4a04a46a27db886bf2fb",
       "version_major": 2,
       "version_minor": 0
      },
      "text/plain": [
       "WebGuiWidget(layout=Layout(height='50vh', width='100%'), value={'gui_settings': {'Objects': {'Wireframe': Fals…"
      ]
     },
     "metadata": {},
     "output_type": "display_data"
    },
    {
     "data": {
      "text/plain": [
       "BaseWebGuiScene"
      ]
     },
     "execution_count": 9,
     "metadata": {},
     "output_type": "execute_result"
    }
   ],
   "source": [
    "lf.Assemble()\n",
    "bf.Assemble()\n",
    "\n",
    "sol = GridFunction(fes)\n",
    "sol.vec.data = bf.mat.Inverse(freedofs = fes.FreeDofs(), inverse = \"sparsecholesky\") * lf.vec\n",
    "Draw(sol, settings = { \"Objects\" : { \"Wireframe\" : False }})"
   ]
  },
  {
   "cell_type": "code",
   "execution_count": 10,
   "id": "bd6bc416-1dc6-44b6-af28-9f40b12795ae",
   "metadata": {},
   "outputs": [
    {
     "data": {
      "application/vnd.jupyter.widget-view+json": {
       "model_id": "00a335e491414e9c9b338339720a08ea",
       "version_major": 2,
       "version_minor": 0
      },
      "text/plain": [
       "WebGuiWidget(layout=Layout(height='50vh', width='100%'), value={'gui_settings': {'Objects': {'Wireframe': Fals…"
      ]
     },
     "metadata": {},
     "output_type": "display_data"
    },
    {
     "data": {
      "text/plain": [
       "BaseWebGuiScene"
      ]
     },
     "execution_count": 10,
     "metadata": {},
     "output_type": "execute_result"
    }
   ],
   "source": [
    "Draw(R * grad(sol), mesh, \n",
    "     vectors={\"grid_size\" : 50, \"offset\" : 0.5 },\n",
    "     settings = { \"Objects\" : { \"Wireframe\" : False, \"Surface\" : False }})"
   ]
  },
  {
   "cell_type": "markdown",
   "id": "51825eba-99db-47c9-8d2a-41df96397f0f",
   "metadata": {},
   "source": [
    "_____\n",
    "## 4) Nonlinear formulation\n"
   ]
  },
  {
   "cell_type": "code",
   "execution_count": 11,
   "id": "a7baea86-147e-4872-811a-243ec2f7699f",
   "metadata": {},
   "outputs": [
    {
     "data": {
      "image/png": "[encoded data removed]",
      "text/plain": [
       "<Figure size 640x480 with 1 Axes>"
      ]
     },
     "metadata": {},
     "output_type": "display_data"
    }
   ],
   "source": [
    "def nu_iron(b2):\n",
    "    return 100 + 10 * exp(1.8 * b2)\n",
    "\n",
    "def dnu_iron_db2(b2):\n",
    "    return 18 * exp(1.8 * b2)\n",
    "\n",
    "import numpy as np\n",
    "import matplotlib.pyplot as plt\n",
    "b = np.linspace(0,2,100)\n",
    "plt.plot(nu_iron(b**2) * b, b); plt.xlabel(\"H (A/m\"); plt.ylabel(\"B (T)\")\n",
    "plt.title(\"BH curve of iron\"); plt.show()"
   ]
  },
  {
   "cell_type": "markdown",
   "id": "7886c6d3-fbc8-42a7-90a7-bc6d3e96aab8",
   "metadata": {},
   "source": [
    "### a) Weak form and directional derivative"
   ]
  },
  {
   "cell_type": "code",
   "execution_count": null,
   "id": "716c401e-433d-460b-8ca5-b3908c6e33d0",
   "metadata": {},
   "outputs": [],
   "source": [
    "def residual(a, v) :\n",
    "    b2 = grad(a)**2\n",
    "    res =  grad(v) * nu0 * grad(a) * dx(\"air|condP|condN\")\n",
    "    res += grad(v) * nu_iron(b2) * grad(a) * dx(\"iron\")\n",
    "    res += -v * J * dx(\"condP\") + v * J * dx(\"condN\")\n",
    "    return res"
   ]
  },
  {
   "cell_type": "code",
   "execution_count": null,
   "id": "6036b871-e5e4-4ebe-9a4b-663a111ed766",
   "metadata": {},
   "outputs": [],
   "source": [
    "def d_residual(da, v, aOld):\n",
    "    b2 = grad(aOld)**2\n",
    "    dres =  grad(v) * nu0 * grad(da) * dx(\"air|condP|condN\")\n",
    "    dres += grad(v) * nu_iron(b2) * grad(da) * dx(\"iron\")\n",
    "    dres += 2 * grad(v) * dnu_iron_db2(b2) * (grad(aOld) * grad(da)) * grad(aOld) * dx(\"iron\")\n",
    "    return dres"
   ]
  },
  {
   "cell_type": "markdown",
   "id": "c0631844-6cba-406b-9b7e-86dfdccf1304",
   "metadata": {},
   "source": [
    "### b) Simple Newton"
   ]
  },
  {
   "cell_type": "code",
   "execution_count": 14,
   "id": "dd233dd4-1c62-4cb1-8703-59a5d5af961f",
   "metadata": {},
   "outputs": [],
   "source": [
    "# initialization\n",
    "fes = H1(mesh, dirichlet = \"out\")\n",
    "da = fes.TrialFunction()\n",
    "v = fes.TestFunction()\n",
    "\n",
    "sol = GridFunction(fes)\n",
    "resList = []"
   ]
  },
  {
   "cell_type": "code",
   "execution_count": null,
   "id": "6cef1721-a1fe-4961-9e9b-883d10a73f31",
   "metadata": {
    "scrolled": true
   },
   "outputs": [
    {
     "name": "stdout",
     "output_type": "stream",
     "text": [
      "i = 0 | res = 1.46788e+02 | step = 1.00e-02\n",
      "i = 1 | res = 1.45457e+02 | step = 5.00e-03\n",
      "i = 2 | res = 1.44713e+02 | step = 6.00e-03\n",
      "i = 3 | res = 1.43828e+02 | step = 7.20e-03\n",
      "i = 4 | res = 1.42776e+02 | step = 8.64e-03\n",
      "i = 5 | res = 1.41527e+02 | step = 1.04e-02\n",
      "i = 6 | res = 1.40044e+02 | step = 1.24e-02\n",
      "i = 7 | res = 1.38285e+02 | step = 1.49e-02\n",
      "i = 8 | res = 1.36203e+02 | step = 1.79e-02\n",
      "i = 9 | res = 1.33744e+02 | step = 2.15e-02\n",
      "i = 10 | res = 1.30849e+02 | step = 2.58e-02\n",
      "i = 11 | res = 1.27451e+02 | step = 3.10e-02\n",
      "i = 12 | res = 1.23481e+02 | step = 3.72e-02\n",
      "i = 13 | res = 1.18867e+02 | step = 4.46e-02\n",
      "i = 14 | res = 1.13540e+02 | step = 5.35e-02\n",
      "i = 15 | res = 1.07436e+02 | step = 6.42e-02\n",
      "i = 16 | res = 1.00507e+02 | step = 7.70e-02\n",
      "i = 17 | res = 9.27311e+01 | step = 9.24e-02\n",
      "i = 18 | res = 8.41254e+01 | step = 1.11e-01\n",
      "i = 19 | res = 7.47607e+01 | step = 1.33e-01\n",
      "i = 20 | res = 6.47785e+01 | step = 1.60e-01\n",
      "i = 21 | res = 5.44043e+01 | step = 1.92e-01\n",
      "i = 22 | res = 4.39542e+01 | step = 2.30e-01\n",
      "i = 23 | res = 3.38281e+01 | step = 2.76e-01\n",
      "i = 24 | res = 2.44807e+01 | step = 3.31e-01\n",
      "i = 25 | res = 1.63668e+01 | step = 3.97e-01\n",
      "i = 26 | res = 9.85934e+00 | step = 4.77e-01\n",
      "i = 27 | res = 5.15622e+00 | step = 5.72e-01\n",
      "i = 28 | res = 2.20495e+00 | step = 6.87e-01\n",
      "i = 29 | res = 6.90524e-01 | step = 8.24e-01\n",
      "i = 30 | res = 1.21389e-01 | step = 9.89e-01\n",
      "i = 31 | res = 1.32800e-03 | step = 1.00e+00\n",
      "i = 32 | res = 3.63476e-09 | step = 1.00e+00\n"
     ]
    }
   ],
   "source": [
    "# loop\n",
    "step = 0.01\n",
    "tol = 1e-8\n",
    "maxit = 100\n",
    "for i in range(maxit):\n",
    "    # compute and assemble residual and derivatives\n",
    "    res = LinearForm(residual(sol, v)).Assemble()\n",
    "    dres = BilinearForm(d_residual(da, v, sol)).Assemble()\n",
    "\n",
    "    # compute norm of the residual\n",
    "    resList.append(np.linalg.norm(res.vec.FV().NumPy()[fes.FreeDofs()]))\n",
    "    \n",
    "    # compute descent direction\n",
    "    d = dres.mat.Inverse(freedofs = fes.FreeDofs(), inverse = \"sparsecholesky\") * res.vec\n",
    "\n",
    "    # update\n",
    "    sol.vec.data += - step * d\n",
    "    print(f\"{i = } | res = {resList[-1]:.5e} | {step = :.2e}\")\n",
    "    \n",
    "    # simple step control\n",
    "    if i>0 and resList[-1] < resList[-2]:\n",
    "        step = min(1, 1.2*step)\n",
    "    else : \n",
    "        step = step/2\n",
    "\n",
    "    # simple stop criterion based on the norm of residual\n",
    "    if resList[-1] < tol:\n",
    "        break"
   ]
  },
  {
   "cell_type": "markdown",
   "id": "35063d27-c980-47f7-8cee-340c6c4e9c8e",
   "metadata": {},
   "source": [
    "Is it converging? \n",
    "- If not how to make it converge?\n",
    "- If yes, at what rate?\n",
    "\n",
    "**Hint** : from the linear problem, compute $\\nu_{iron}$"
   ]
  },
  {
   "cell_type": "code",
   "execution_count": 16,
   "id": "11f623e2-f31a-4f98-a2f8-6ccaf4d09d24",
   "metadata": {},
   "outputs": [
    {
     "data": {
      "image/png": "[encoded data removed]",
      "text/plain": [
       "<Figure size 640x480 with 1 Axes>"
      ]
     },
     "metadata": {},
     "output_type": "display_data"
    }
   ],
   "source": [
    "plt.semilogy(resList)\n",
    "plt.grid()\n",
    "plt.xlabel(\"Iterations\"); plt.ylabel(\"Norm of the residual\");\n",
    "plt.show()"
   ]
  },
  {
   "cell_type": "code",
   "execution_count": 17,
   "id": "f0f93e7f-1cbd-4deb-a14b-c8befe719970",
   "metadata": {},
   "outputs": [
    {
     "data": {
      "application/vnd.jupyter.widget-view+json": {
       "model_id": "4e0542f2822e46c6b02bf1cf7afbfcae",
       "version_major": 2,
       "version_minor": 0
      },
      "text/plain": [
       "WebGuiWidget(layout=Layout(height='50vh', width='100%'), value={'gui_settings': {'Objects': {'Wireframe': Fals…"
      ]
     },
     "metadata": {},
     "output_type": "display_data"
    },
    {
     "data": {
      "text/plain": [
       "BaseWebGuiScene"
      ]
     },
     "execution_count": 17,
     "metadata": {},
     "output_type": "execute_result"
    }
   ],
   "source": [
    "Draw(R * grad(sol), mesh, \n",
    "     vectors={\"grid_size\" : 50, \"offset\" : 0.5 },\n",
    "     settings = { \"Objects\" : { \"Wireframe\" : False, \"Surface\" : False }})"
   ]
  },
  {
   "cell_type": "markdown",
   "id": "6e3f65a4-7c64-410b-a4df-59e7abebb03e",
   "metadata": {},
   "source": [
    "_________\n",
    "### c) More elaborated Newton\n",
    "We can improve by adding : \n",
    "- more stopping criteria\n",
    "- proper linesearch\n",
    "\n",
    "You can analyze the algorithm in the file `utils\\mySolver`, and make some comments."
   ]
  },
  {
   "cell_type": "code",
   "execution_count": 18,
   "id": "ffd0b83b-3996-4dfa-9658-79958f66e89f",
   "metadata": {},
   "outputs": [
    {
     "name": "stdout",
     "output_type": "stream",
     "text": [
      "-------------------- START NEWTON ---------------------\n",
      "Initializing  ..... done (8.40 ms).\n",
      "Initial residual : 1.46788e+02\n",
      "Start loop  ....... \n",
      " It 1 -------------------------------------------------\n",
      " - Assembly ....... done (10.30 ms).\n",
      " - Solve .......... done (16.34 ms).\n",
      " - Line search .... \n",
      "   it 0 : ||residual|| = nan | step = 1.00e+00\n",
      "   it 1 : ||residual|| = nan | step = 5.00e-01\n",
      "   it 2 : ||residual|| = nan | step = 2.50e-01\n",
      "   it 3 : ||residual|| = nan | step = 1.25e-01\n",
      "   it 4 : ||residual|| = 2.16767e+95 | step = 6.25e-02\n",
      "   it 5 : ||residual|| = 5.67251e+22 | step = 3.12e-02\n",
      "   it 6 : ||residual|| = 3.48396e+04 | step = 1.56e-02\n",
      "   it 7 : ||residual|| = 1.45623e+02 | step = 7.81e-03\n",
      " - Line search done (34.70 ms).\n",
      " - Conv : ||residual|| = 1.45623e+02 | decr = 1.48152e+01\n",
      " - Newton iteration done (73.18 ms).\n",
      " It 2 -------------------------------------------------\n",
      " - Assembly ....... done (10.41 ms).\n",
      " - Solve .......... done (12.09 ms).\n",
      " - Line search .... \n",
      "   it 0 : ||residual|| = nan | step = 1.00e+00\n",
      "   it 1 : ||residual|| = nan | step = 5.00e-01\n",
      "   it 2 : ||residual|| = nan | step = 2.50e-01\n",
      "   it 3 : ||residual|| = 1.56194e+99 | step = 1.25e-01\n",
      "   it 4 : ||residual|| = 2.32132e+27 | step = 6.25e-02\n",
      "   it 5 : ||residual|| = 5.00377e+07 | step = 3.12e-02\n",
      "   it 6 : ||residual|| = 1.73498e+02 | step = 1.56e-02\n",
      "   it 7 : ||residual|| = 1.44432e+02 | step = 7.81e-03\n",
      " - Line search done (28.64 ms).\n",
      " - Conv : ||residual|| = 1.44432e+02 | decr = 1.15768e+01\n",
      " - Newton iteration done (60.19 ms).\n",
      " It 3 -------------------------------------------------\n",
      " - Assembly ....... done (10.67 ms).\n",
      " - Solve .......... done (10.66 ms).\n",
      " - Line search .... \n",
      "   it 0 : ||residual|| = nan | step = 1.00e+00\n",
      "   it 1 : ||residual|| = 1.51596e+137 | step = 5.00e-01\n",
      "   it 2 : ||residual|| = 1.11776e+38 | step = 2.50e-01\n",
      "   it 3 : ||residual|| = 1.41870e+11 | step = 1.25e-01\n",
      "   it 4 : ||residual|| = 3.58416e+03 | step = 6.25e-02\n",
      "   it 5 : ||residual|| = 1.39572e+02 | step = 3.12e-02\n",
      " - Line search done (22.33 ms).\n",
      " - Conv : ||residual|| = 1.39572e+02 | decr = 6.20875e+00\n",
      " - Newton iteration done (52.30 ms).\n",
      " It 4 -------------------------------------------------\n",
      " - Assembly ....... done (10.06 ms).\n",
      " - Solve .......... done (14.53 ms).\n",
      " - Line search .... \n",
      "   it 0 : ||residual|| = 1.63317e+06 | step = 1.00e+00\n",
      "   it 1 : ||residual|| = 1.23630e+03 | step = 5.00e-01\n",
      "   it 2 : ||residual|| = 1.19587e+02 | step = 2.50e-01\n",
      " - Line search done (12.87 ms).\n",
      " - Conv : ||residual|| = 1.19587e+02 | decr = 1.37099e+00\n",
      " - Newton iteration done (48.19 ms).\n",
      " It 5 -------------------------------------------------\n",
      " - Assembly ....... done (10.80 ms).\n",
      " - Solve .......... done (25.53 ms).\n",
      " - Line search .... \n",
      "   it 0 : ||residual|| = 2.64027e+01 | step = 1.00e+00\n",
      " - Line search done (3.86 ms).\n",
      " - Conv : ||residual|| = 2.64027e+01 | decr = 3.73304e-01\n",
      " - Newton iteration done (48.58 ms).\n",
      " It 6 -------------------------------------------------\n",
      " - Assembly ....... done (10.66 ms).\n",
      " - Solve .......... done (15.71 ms).\n",
      " - Line search .... \n",
      "   it 0 : ||residual|| = 3.14598e+00 | step = 1.00e+00\n",
      " - Line search done (4.20 ms).\n",
      " - Conv : ||residual|| = 3.14598e+00 | decr = 1.00926e-01\n",
      " - Newton iteration done (41.51 ms).\n",
      " It 7 -------------------------------------------------\n",
      " - Assembly ....... done (10.54 ms).\n",
      " - Solve .......... done (16.80 ms).\n",
      " - Line search .... \n",
      "   it 0 : ||residual|| = 6.84765e-02 | step = 1.00e+00\n",
      " - Line search done (4.66 ms).\n",
      " - Conv : ||residual|| = 6.84765e-02 | decr = 1.19596e-02\n",
      " - Newton iteration done (40.35 ms).\n",
      " It 8 -------------------------------------------------\n",
      " - Assembly ....... done (10.05 ms).\n",
      " - Solve .......... done (27.23 ms).\n",
      " - Line search .... \n",
      "   it 0 : ||residual|| = 3.75264e-05 | step = 1.00e+00\n",
      " - Line search done (5.67 ms).\n",
      " - Conv : ||residual|| = 3.75264e-05 | decr = 2.18646e-04\n",
      " - Newton iteration done (52.07 ms).\n",
      " It 9 -------------------------------------------------\n",
      " - Assembly ....... done (9.87 ms).\n",
      " - Solve .......... done (15.96 ms).\n",
      " - Line search .... \n",
      "   it 0 : ||residual|| = 1.95591e-11 | step = 1.00e+00\n",
      " - Line search done (3.38 ms).\n",
      " - Conv : ||residual|| = 1.95591e-11 | decr = 9.86130e-08\n",
      " - Newton iteration done (37.49 ms).\n",
      "Stop because residual is lower than tol_res.\n",
      "-------------------------------------------------------\n",
      " ✅ SUCCESS: Newton has converged in 9 iterations.\n",
      " Total wall time: 0.46 s.\n",
      " --------------------- END NEWTON --------------------- \n"
     ]
    }
   ],
   "source": [
    "from utils.mySolvers import solve\n",
    "\n",
    "result = solve(fes, residual, verbosity = 3)"
   ]
  },
  {
   "cell_type": "code",
   "execution_count": 19,
   "id": "ad89b3b4-61ee-4cc1-868f-e436a085bcbc",
   "metadata": {},
   "outputs": [
    {
     "data": {
      "image/png": "[encoded data removed]",
      "text/plain": [
       "<Figure size 640x480 with 1 Axes>"
      ]
     },
     "metadata": {},
     "output_type": "display_data"
    }
   ],
   "source": [
    "plt.semilogy(result[\"residual\"])\n",
    "plt.grid()\n",
    "plt.xlabel(\"Iterations\"); plt.ylabel(\"Norm of the residual\");\n",
    "plt.show()"
   ]
  },
  {
   "cell_type": "code",
   "execution_count": 20,
   "id": "5d68c59c-9453-46d1-8007-e3e40a709b33",
   "metadata": {},
   "outputs": [
    {
     "data": {
      "application/vnd.jupyter.widget-view+json": {
       "model_id": "944091e742db4efd82d0778dde94a6f1",
       "version_major": 2,
       "version_minor": 0
      },
      "text/plain": [
       "WebGuiWidget(layout=Layout(height='50vh', width='100%'), value={'gui_settings': {'Objects': {'Wireframe': Fals…"
      ]
     },
     "metadata": {},
     "output_type": "display_data"
    },
    {
     "data": {
      "text/plain": [
       "BaseWebGuiScene"
      ]
     },
     "execution_count": 20,
     "metadata": {},
     "output_type": "execute_result"
    }
   ],
   "source": [
    "Draw(R * grad(result[\"solution\"]), mesh, \n",
    "     vectors={\"grid_size\" : 50, \"offset\" : 0.5 },\n",
    "     settings = { \"Objects\" : { \"Wireframe\" : False, \"Surface\" : False }})"
   ]
  }
 ],
 "metadata": {
  "kernelspec": {
   "display_name": "Python 3 (ipykernel)",
   "language": "python",
   "name": "python3"
  },
  "language_info": {
   "codemirror_mode": {
    "name": "ipython",
    "version": 3
   },
   "file_extension": ".py",
   "mimetype": "text/x-python",
   "name": "python",
   "nbconvert_exporter": "python",
   "pygments_lexer": "ipython3",
   "version": "3.13.7"
  }
 },
 "nbformat": 4,
 "nbformat_minor": 5
}
